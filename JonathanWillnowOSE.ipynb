{
 "cells": [
  {
   "cell_type": "markdown",
   "metadata": {},
   "source": [
    "http://www.axel-dreher.de/Dreher%20et%20al._Aid_China_Growth.pdf\n",
    "\n"
   ]
  },
  {
   "cell_type": "markdown",
   "metadata": {},
   "source": [
    "--- \n",
    "Project for the course in Microeconometrics / OSE Data Science | Summer 2021, M.Sc. Economics, Bonn University | [Jonathan Willnow](https://github.com/JonathanWillnow)\n",
    "\n",
    "# Replication of Dreher et. al (2020): Aid, China, and Growth: Evidence from a New Global Development Finance Dataset  <a class=\"tocSkip\">   \n",
    "---\n",
    "    \n",
    "    Which year????!!!! Clarify!"
   ]
  },
  {
   "cell_type": "markdown",
   "metadata": {},
   "source": [
    "The aim of this notebook is to replicate the following paper:\n",
    "\n",
    "> Dreher et. al (2021): Aid, China, and Growth: Evidence from a New Global Development Finance Dataset. American Economic Journal: Economic Policy, vol. 13(2), may 2021 (pp. 135-74).\n",
    "\n",
    "\n",
    "##### Downloading and viewing this notebook:\n",
    "\n",
    "* The best way to view this notebook is by downloading it and the repository it is located in from [GitHub](https://github.com/OpenSourceEconomics/ose-data-science-course-project-JonathanWillnow). Other viewing options like _MyBinder_ or _NBViewer_ may have issues with displaying images or coloring of certain parts (missing images can be viewed in the folder [files](https://github.com/OpenSourceEconomics/ose-data-science-course-project-JonathanWillnow) on GitHub).\n",
    "\n",
    "\n",
    "* The original paper, as well as the data and code provided by the authors can be accessed [here](https://www.aeaweb.org/articles?id=10.1257/pol.20180631).\n",
    "\n",
    "##### Information about replication and individual contributions:\n",
    "\n",
    "* For the replication, I try to remain true to the original structure of the paper so readers can easily follow along and compare. All tables and figures are named and labeled as they appear in Lindo et al. (2010).\n",
    "\n",
    "\n",
    "* The tables in my replication appear transposed compared to the original tables to suit my workflow in Python.\n",
    "\n",
    "\n",
    "* For transparency, all sections in the replication that constitute independent contributions by me and are not part of results presented (or include deviations from the methods used) in the paper are marked as _extensions_. "
   ]
  },
  {
   "cell_type": "markdown",
   "metadata": {},
   "source": [
    "# Table of Contents"
   ]
  },
  {
   "cell_type": "markdown",
   "metadata": {},
   "source": [
    "### Library imports"
   ]
  },
  {
   "cell_type": "code",
   "execution_count": 1,
   "metadata": {},
   "outputs": [],
   "source": [
    "%matplotlib inline\n",
    "import numpy as np\n",
    "import pandas as pd\n",
    "import pandas.io.formats.style\n",
    "import seaborn as sns\n",
    "import statsmodels as sm\n",
    "import statsmodels.formula.api as smf\n",
    "import statsmodels.api as sm_api\n",
    "import matplotlib as plt\n",
    "from IPython.display import HTML"
   ]
  },
  {
   "cell_type": "code",
   "execution_count": 2,
   "metadata": {},
   "outputs": [],
   "source": [
    "from auxiliary.example_project_auxiliary_predictions import *\n",
    "from auxiliary.example_project_auxiliary_plots import *\n",
    "from auxiliary.example_project_auxiliary_tables import *"
   ]
  },
  {
   "cell_type": "markdown",
   "metadata": {},
   "source": [
    "# 1. Introduction"
   ]
  },
  {
   "cell_type": "markdown",
   "metadata": {},
   "source": [
    "The Belt and Road Initiative (BRI), better known as The \"new silk road initiative\" is just one of many instances of China´s overseas activities of financing development, especially known to the europeans. Other projects, mostly infrastructure projects (by transaction value), link China within Asia and with the African continent. This role of China as significant donor raises strong opinions, but the debate was based on only little facts since most of the details are not officially reported. The paper at hand uses the Tracking Underreported Financial Flows (TUFF) methodology to introduce a new dataset that provides the needed evidentiary foundations that was needed for this issue.\n",
    "\n",
    "Dreher et. al adress two questions: \n",
    "\n",
    "* Does Chinas financial development finance led to economic growth?\n",
    "* Does Chinas finance undermine the effectivness of western development finance?\n",
    "\n",
    "+ Argumente??!!\n",
    "\n",
    "To identify whether and how Chinese development finance affects economic growth, we employ instrumental variables (IV) that exploit year-to-year changes in the supply of Chinese development finance in tandem with cross-sectional variation capturing the probability that countries receive a smaller or larger share of such funding."
   ]
  },
  {
   "cell_type": "markdown",
   "metadata": {},
   "source": [
    "# 2. The Tracking Underreported Financial Flows (TUFF) methodology"
   ]
  },
  {
   "cell_type": "markdown",
   "metadata": {},
   "source": [
    "The data set is constructed using the Tracking Underreported Financial Flows (TUFF) methodology which codifies a set of open source data collection procedures in a systematic, transparent and replicable way. This methodology was origionally developed by Strange et. al(2012) in collaboration with AidData, a research lab at William and Mary and has been used and improved many times (for p.62). It enables us to identify detailed financial, locational and even operational informations about officially financed projects that are NOT recorded by the donors and lenders (here China) through the international reporting systems, like the OECD’s Creditor Reporting System (CRS) or the International Aid Transparency Initiative (IATI).\n",
    "\n",
    "Since the authors of the paper address the relevance of this methodology many times and the constructed data set is unique in its range and accuracy, we will briefly explore the TUFF methodology. \n",
    "\n",
    "### First Stage\n",
    "This represents the stage of primary data collection. All recorded projects of interest were collected. In parallel, potential projects at the donor/lender-recipient/borrower-year unit got identified and collected by a standartizied set of search querries. The database of choice for this dataset is the media database Factivia wich collects newspapers, radio and television transcript worldwide in 28 languages. This set of documents is then filtered using a machine learning algorithm, trained with large amounts of past identified and classified documents. A subset of documents is determined which are most likely to contain information on officially by china financed projects. Each object of the subset was then reviewed by the team and assessed whether it contained the information or not.\n",
    "\n",
    "### Second Stage\n",
    "The so gathered set of documents is then subject to a second review and augmention to validate/ invalidate it and potentionally add to the project informations in order to improve the accuracy and scope. This is performed by native speakers and language experts. For this specific dataset, the researchers also collected informations from entities like the private contractors of the projects, experts with specific tacit knowledge for specific projects and also involved external reviewers that did fildwork on a specific project or country. As a measure of validity, the researchers calculate sytematically triangulation and completness scores for each project. This triangulation and the related score achives a higher validity and reduced systematic risk, but also avoids the over-reliance on Factivia.\n",
    "\n",
    "### Third Stage\n",
    "The aim of this stage is to maximize the reliability and completeness of the records on the individual projects by quality assurance procedures. This involves the identification and correcting of inconsistent coding e.g caused by different categorized standarts, several de-duplication procedures and the vetting of each individual project record by higher ranking researchers as this whole process involves `HOWMANY?` researchers and assistants. All projects with poor records and relativly high transaction value get indentified by the triangulation and completeness scores and undergoe another review.\n",
    "Finally the constructed dataset gets peer-reviewed by internal and external reviewers. For this specific dataset, more than 30 external and interbal reviewers were involved.\n"
   ]
  },
  {
   "cell_type": "markdown",
   "metadata": {},
   "source": [
    "---\n",
    "<span style=\"color:blue\">**NOTE**:</span> More information about AidData´s TUFF Methodology, its development and coder instructions can be found [here](https://www.aiddata.org/publications). This section was based on Strange et. al(2017): AidData's Tracking Underreported Financial Flows (TUFF) Methodology, Version 1.3. Williamsburg, VA: AidData at William & Mary.\n",
    "\n",
    "\n",
    "\n",
    "---"
   ]
  },
  {
   "cell_type": "markdown",
   "metadata": {},
   "source": [
    "# 3. Theoretical Background"
   ]
  },
  {
   "cell_type": "markdown",
   "metadata": {},
   "source": [
    "The aim is to analyze the causal effects of the Chinese development finance. The authors set up the following regression for all recipient countries not listed as high-income countries by the worldbank given the year $t$:\n",
    "\n",
    "\n",
    "\\begin{equation}\n",
    "Growth_{i,t} = \\beta_{1}OF_{CHN,i,t-2} + \\beta_{2}pop_{i,t-1} + \\beta_{3}\\eta_{i} + \\beta_{4}\\mu_{t} + \\epsilon{i,t'} \n",
    "\\end{equation}\n",
    "\n",
    "* $Growth_{i,t}$ as recipients country $i$´s real GDP per capita grwoth in $t$,\n",
    "* $OF_{CHN,i,t-2}$ as measure of Chinese development finance two years before,\n",
    "* $pop_{i,t-1}$ indicates recipients $i$ logged population size in $t_{-1}$,\n",
    "* $\\eta_{i}$ represents country-fixed effects,\n",
    "* $\\mu_{t}$ the time fixed effects and\n",
    "* $\\epsilon{i,t'}$ the error term.\n",
    "\n",
    "As can be seen in this setup, the development finance $OF_{CHN,i,t-2}$ is likely to be endogenous to the dependent variable $Growth_{i,t}$. A potential source of its endogeneity is reverse causation: Not only does Chinese financial development has the potential to drive grwoth, but the growth of a recipient country may influence Bejjings decision to deploy development finance. The Chinese development finance and the real GDP per capita growth may positively correlated as the Chinese government prefers to concentrate its development finance towards countries with high growth, but also a negative correltation is possible due to its stated goal \"to ensure its aid benefits as many needy people as possible\" (p15, also state council 2011). Also when looking on this regression, it is rather lean compared to the rich dataset. It is therefore possible that $\\epsilon{i,t'}$ correlates with the dependent variable, so we have the risk of ommited-variable bias. \n",
    "\n",
    "These described endogeneity is adressed by designing an instrumental variables regression using the following first-stage regresion:\n",
    "\n",
    "\\begin{equation}\n",
    "OF_{CHN,i,t-2} = \\gamma_{1}Material_{t-3} * p_{CHN,i} + \\gamma_{2}Reserves_{t-3} * p_{CHN,i} + \\gamma_{3}pop_{i,t-1} + \\gamma_{4}\\eta_{i} + \\gamma_{5}\\mu_{t} + \\mu_{i,t-2} \n",
    "\\end{equation}\n",
    "\n",
    "The instruments that are used are\n",
    "\n",
    "* $Material_{t-3}$ the lagged, detrended and logged Chinese production materials varying in $t$, interacted with $p_{CHN,i}$ the probability of recipient $i$ receiving Chinese development finance,\n",
    "* $Resserves_{t-3}$, the lagged and detrended change in China´s ne foreign exchange reserves, interacted agin with $p_{CHN,i}$\n",
    "\n",
    "$\\mu_{t}$ is the time-varying part of our instrument. It is constructed using factor analysis for $Material_{t-3}$, which identifies latent structures, extracts common variance and puts them into a common score, here $\\mu_{t}$. This allows to capture the joint variation of the logged and detrended production figures.\n",
    "https://www.statisticssolutions.com/free-resources/directory-of-statistical-analyses/factor-analysis/\n",
    "https://www.statisticssolutions.com/free-resources/directory-of-statistical-analyses/factor-analysis-2/\n",
    "\n",
    "\n",
    "\n"
   ]
  },
  {
   "cell_type": "markdown",
   "metadata": {},
   "source": [
    "# 4. Replication"
   ]
  },
  {
   "cell_type": "markdown",
   "metadata": {},
   "source": [
    "## 4.1 The Dataset\n"
   ]
  },
  {
   "cell_type": "markdown",
   "metadata": {},
   "source": [
    "The dataset of Dreher et al(), constructed with the introduced TUFF methodology, covers 4,304 Chinese financed development projects that were commited, implemented or completed between 2000 and 2014 in 138 countries worldwide, based on 15,500 unique sources of information as described above."
   ]
  },
  {
   "cell_type": "markdown",
   "metadata": {},
   "source": [
    "## 4.2 Descriptive Statistics"
   ]
  },
  {
   "cell_type": "code",
   "execution_count": 3,
   "metadata": {},
   "outputs": [],
   "source": [
    "data_1 = pd.read_stata('data/map_1yw_merge.dta')\n",
    "data_2 = pd.read_stata('data/worldcoord.dta')"
   ]
  },
  {
   "cell_type": "code",
   "execution_count": 4,
   "metadata": {},
   "outputs": [
    {
     "data": {
      "text/html": [
       "<div>\n",
       "<style scoped>\n",
       "    .dataframe tbody tr th:only-of-type {\n",
       "        vertical-align: middle;\n",
       "    }\n",
       "\n",
       "    .dataframe tbody tr th {\n",
       "        vertical-align: top;\n",
       "    }\n",
       "\n",
       "    .dataframe thead th {\n",
       "        text-align: right;\n",
       "    }\n",
       "</style>\n",
       "<table border=\"1\" class=\"dataframe\">\n",
       "  <thead>\n",
       "    <tr style=\"text-align: right;\">\n",
       "      <th></th>\n",
       "      <th>FIPS_CNTRY</th>\n",
       "      <th>GMI_CNTRY</th>\n",
       "      <th>ISO_2DIGIT</th>\n",
       "      <th>recipient_iso3</th>\n",
       "      <th>ISO_NUM</th>\n",
       "      <th>CNTRY_NAME</th>\n",
       "      <th>LONG_NAME</th>\n",
       "      <th>POP2007</th>\n",
       "      <th>SQKM</th>\n",
       "      <th>SQMI</th>\n",
       "      <th>LAND_SQKM</th>\n",
       "      <th>COLORMAP</th>\n",
       "      <th>id</th>\n",
       "      <th>OFa_all_con</th>\n",
       "      <th>probaid_PRC_OFn_all</th>\n",
       "    </tr>\n",
       "  </thead>\n",
       "  <tbody>\n",
       "    <tr>\n",
       "      <th>0</th>\n",
       "      <td>AA</td>\n",
       "      <td>ABW</td>\n",
       "      <td>AW</td>\n",
       "      <td>ABW</td>\n",
       "      <td>533.0</td>\n",
       "      <td>Aruba</td>\n",
       "      <td>Aruba</td>\n",
       "      <td>72194.0</td>\n",
       "      <td>139.93</td>\n",
       "      <td>54.03</td>\n",
       "      <td>193.0</td>\n",
       "      <td>1.0</td>\n",
       "      <td>42.0</td>\n",
       "      <td>0.000000e+00</td>\n",
       "      <td>0.000000</td>\n",
       "    </tr>\n",
       "    <tr>\n",
       "      <th>1</th>\n",
       "      <td>AF</td>\n",
       "      <td>AFG</td>\n",
       "      <td>AF</td>\n",
       "      <td>AFG</td>\n",
       "      <td>4.0</td>\n",
       "      <td>Afghanistan</td>\n",
       "      <td>Islamic Republic of Afghanistan</td>\n",
       "      <td>31889923.0</td>\n",
       "      <td>641358.44</td>\n",
       "      <td>247628.48</td>\n",
       "      <td>647500.0</td>\n",
       "      <td>3.0</td>\n",
       "      <td>177.0</td>\n",
       "      <td>1.356742e+08</td>\n",
       "      <td>0.933333</td>\n",
       "    </tr>\n",
       "    <tr>\n",
       "      <th>2</th>\n",
       "      <td>AO</td>\n",
       "      <td>AGO</td>\n",
       "      <td>AO</td>\n",
       "      <td>AGO</td>\n",
       "      <td>24.0</td>\n",
       "      <td>Angola</td>\n",
       "      <td>Republic of Angola</td>\n",
       "      <td>12263596.0</td>\n",
       "      <td>1252934.88</td>\n",
       "      <td>483758.22</td>\n",
       "      <td>1246700.0</td>\n",
       "      <td>1.0</td>\n",
       "      <td>221.0</td>\n",
       "      <td>1.316403e+10</td>\n",
       "      <td>0.933333</td>\n",
       "    </tr>\n",
       "    <tr>\n",
       "      <th>3</th>\n",
       "      <td>AV</td>\n",
       "      <td>AIA</td>\n",
       "      <td>AI</td>\n",
       "      <td>AIA</td>\n",
       "      <td>660.0</td>\n",
       "      <td>Anguilla</td>\n",
       "      <td>Anguilla</td>\n",
       "      <td>13677.0</td>\n",
       "      <td>74.48</td>\n",
       "      <td>28.76</td>\n",
       "      <td>102.0</td>\n",
       "      <td>6.0</td>\n",
       "      <td>59.0</td>\n",
       "      <td>NaN</td>\n",
       "      <td>NaN</td>\n",
       "    </tr>\n",
       "    <tr>\n",
       "      <th>4</th>\n",
       "      <td>AL</td>\n",
       "      <td>ALB</td>\n",
       "      <td>AL</td>\n",
       "      <td>ALB</td>\n",
       "      <td>8.0</td>\n",
       "      <td>Albania</td>\n",
       "      <td>Republic of Albania</td>\n",
       "      <td>3600523.0</td>\n",
       "      <td>28798.00</td>\n",
       "      <td>11118.91</td>\n",
       "      <td>27398.0</td>\n",
       "      <td>6.0</td>\n",
       "      <td>122.0</td>\n",
       "      <td>2.330109e+08</td>\n",
       "      <td>0.733333</td>\n",
       "    </tr>\n",
       "  </tbody>\n",
       "</table>\n",
       "</div>"
      ],
      "text/plain": [
       "  FIPS_CNTRY GMI_CNTRY ISO_2DIGIT recipient_iso3  ISO_NUM   CNTRY_NAME  \\\n",
       "0         AA       ABW         AW            ABW    533.0        Aruba   \n",
       "1         AF       AFG         AF            AFG      4.0  Afghanistan   \n",
       "2         AO       AGO         AO            AGO     24.0       Angola   \n",
       "3         AV       AIA         AI            AIA    660.0     Anguilla   \n",
       "4         AL       ALB         AL            ALB      8.0      Albania   \n",
       "\n",
       "                         LONG_NAME     POP2007        SQKM       SQMI  \\\n",
       "0                            Aruba     72194.0      139.93      54.03   \n",
       "1  Islamic Republic of Afghanistan  31889923.0   641358.44  247628.48   \n",
       "2               Republic of Angola  12263596.0  1252934.88  483758.22   \n",
       "3                         Anguilla     13677.0       74.48      28.76   \n",
       "4              Republic of Albania   3600523.0    28798.00   11118.91   \n",
       "\n",
       "   LAND_SQKM  COLORMAP     id   OFa_all_con  probaid_PRC_OFn_all  \n",
       "0      193.0       1.0   42.0  0.000000e+00             0.000000  \n",
       "1   647500.0       3.0  177.0  1.356742e+08             0.933333  \n",
       "2  1246700.0       1.0  221.0  1.316403e+10             0.933333  \n",
       "3      102.0       6.0   59.0           NaN                  NaN  \n",
       "4    27398.0       6.0  122.0  2.330109e+08             0.733333  "
      ]
     },
     "execution_count": 4,
     "metadata": {},
     "output_type": "execute_result"
    }
   ],
   "source": [
    "data_1.head()"
   ]
  },
  {
   "cell_type": "code",
   "execution_count": 15,
   "metadata": {},
   "outputs": [
    {
     "data": {
      "text/html": [
       "<div>\n",
       "<style scoped>\n",
       "    .dataframe tbody tr th:only-of-type {\n",
       "        vertical-align: middle;\n",
       "    }\n",
       "\n",
       "    .dataframe tbody tr th {\n",
       "        vertical-align: top;\n",
       "    }\n",
       "\n",
       "    .dataframe thead th {\n",
       "        text-align: right;\n",
       "    }\n",
       "</style>\n",
       "<table border=\"1\" class=\"dataframe\">\n",
       "  <thead>\n",
       "    <tr style=\"text-align: right;\">\n",
       "      <th></th>\n",
       "      <th>FIPS_CNTRY</th>\n",
       "      <th>GMI_CNTRY</th>\n",
       "      <th>ISO_2DIGIT</th>\n",
       "      <th>recipient_iso3</th>\n",
       "      <th>ISO_NUM</th>\n",
       "      <th>CNTRY_NAME</th>\n",
       "      <th>LONG_NAME</th>\n",
       "      <th>POP2007</th>\n",
       "      <th>SQKM</th>\n",
       "      <th>SQMI</th>\n",
       "      <th>LAND_SQKM</th>\n",
       "      <th>COLORMAP</th>\n",
       "      <th>id</th>\n",
       "      <th>OFa_all_con</th>\n",
       "      <th>probaid_PRC_OFn_all</th>\n",
       "    </tr>\n",
       "  </thead>\n",
       "  <tbody>\n",
       "    <tr>\n",
       "      <th>180</th>\n",
       "      <td>RS</td>\n",
       "      <td>RUS</td>\n",
       "      <td>RU</td>\n",
       "      <td>RUS</td>\n",
       "      <td>643.0</td>\n",
       "      <td>Russia</td>\n",
       "      <td>Russian Federation</td>\n",
       "      <td>141377752.0</td>\n",
       "      <td>16897294.00</td>\n",
       "      <td>6524043.50</td>\n",
       "      <td>16995800.0</td>\n",
       "      <td>1.0</td>\n",
       "      <td>104.0</td>\n",
       "      <td>2.871752e+10</td>\n",
       "      <td>0.600000</td>\n",
       "    </tr>\n",
       "    <tr>\n",
       "      <th>163</th>\n",
       "      <td>PK</td>\n",
       "      <td>PAK</td>\n",
       "      <td>PK</td>\n",
       "      <td>PAK</td>\n",
       "      <td>586.0</td>\n",
       "      <td>Pakistan</td>\n",
       "      <td>Islamic Republic of Pakistan</td>\n",
       "      <td>169270617.0</td>\n",
       "      <td>880202.69</td>\n",
       "      <td>339846.25</td>\n",
       "      <td>778720.0</td>\n",
       "      <td>4.0</td>\n",
       "      <td>180.0</td>\n",
       "      <td>1.934071e+10</td>\n",
       "      <td>0.933333</td>\n",
       "    </tr>\n",
       "    <tr>\n",
       "      <th>2</th>\n",
       "      <td>AO</td>\n",
       "      <td>AGO</td>\n",
       "      <td>AO</td>\n",
       "      <td>AGO</td>\n",
       "      <td>24.0</td>\n",
       "      <td>Angola</td>\n",
       "      <td>Republic of Angola</td>\n",
       "      <td>12263596.0</td>\n",
       "      <td>1252934.88</td>\n",
       "      <td>483758.22</td>\n",
       "      <td>1246700.0</td>\n",
       "      <td>1.0</td>\n",
       "      <td>221.0</td>\n",
       "      <td>1.316403e+10</td>\n",
       "      <td>0.933333</td>\n",
       "    </tr>\n",
       "    <tr>\n",
       "      <th>67</th>\n",
       "      <td>ET</td>\n",
       "      <td>ETH</td>\n",
       "      <td>ET</td>\n",
       "      <td>ETH</td>\n",
       "      <td>231.0</td>\n",
       "      <td>Ethiopia</td>\n",
       "      <td>Federal Democratic Republic of Ethiopia</td>\n",
       "      <td>76511887.0</td>\n",
       "      <td>1134156.00</td>\n",
       "      <td>437897.63</td>\n",
       "      <td>1119683.0</td>\n",
       "      <td>4.0</td>\n",
       "      <td>94.0</td>\n",
       "      <td>1.226241e+10</td>\n",
       "      <td>0.933333</td>\n",
       "    </tr>\n",
       "    <tr>\n",
       "      <th>123</th>\n",
       "      <td>CE</td>\n",
       "      <td>LKA</td>\n",
       "      <td>LK</td>\n",
       "      <td>LKA</td>\n",
       "      <td>144.0</td>\n",
       "      <td>Sri Lanka</td>\n",
       "      <td>Democratic Socialist Republic of Sri Lan</td>\n",
       "      <td>20926315.0</td>\n",
       "      <td>64665.21</td>\n",
       "      <td>24967.24</td>\n",
       "      <td>64740.0</td>\n",
       "      <td>7.0</td>\n",
       "      <td>165.0</td>\n",
       "      <td>1.008200e+10</td>\n",
       "      <td>0.866667</td>\n",
       "    </tr>\n",
       "  </tbody>\n",
       "</table>\n",
       "</div>"
      ],
      "text/plain": [
       "    FIPS_CNTRY GMI_CNTRY ISO_2DIGIT recipient_iso3  ISO_NUM CNTRY_NAME  \\\n",
       "180         RS       RUS         RU            RUS    643.0     Russia   \n",
       "163         PK       PAK         PK            PAK    586.0   Pakistan   \n",
       "2           AO       AGO         AO            AGO     24.0     Angola   \n",
       "67          ET       ETH         ET            ETH    231.0   Ethiopia   \n",
       "123         CE       LKA         LK            LKA    144.0  Sri Lanka   \n",
       "\n",
       "                                    LONG_NAME      POP2007         SQKM  \\\n",
       "180                        Russian Federation  141377752.0  16897294.00   \n",
       "163              Islamic Republic of Pakistan  169270617.0    880202.69   \n",
       "2                          Republic of Angola   12263596.0   1252934.88   \n",
       "67    Federal Democratic Republic of Ethiopia   76511887.0   1134156.00   \n",
       "123  Democratic Socialist Republic of Sri Lan   20926315.0     64665.21   \n",
       "\n",
       "           SQMI   LAND_SQKM  COLORMAP     id   OFa_all_con  \\\n",
       "180  6524043.50  16995800.0       1.0  104.0  2.871752e+10   \n",
       "163   339846.25    778720.0       4.0  180.0  1.934071e+10   \n",
       "2     483758.22   1246700.0       1.0  221.0  1.316403e+10   \n",
       "67    437897.63   1119683.0       4.0   94.0  1.226241e+10   \n",
       "123    24967.24     64740.0       7.0  165.0  1.008200e+10   \n",
       "\n",
       "     probaid_PRC_OFn_all  \n",
       "180             0.600000  \n",
       "163             0.933333  \n",
       "2               0.933333  \n",
       "67              0.933333  \n",
       "123             0.866667  "
      ]
     },
     "execution_count": 15,
     "metadata": {},
     "output_type": "execute_result"
    }
   ],
   "source": [
    "largest_recipiants_df = data_1.sort_values(by=\"OFa_all_con\", ascending=False)\n",
    "largest_recipiants_df.head(5)"
   ]
  },
  {
   "cell_type": "code",
   "execution_count": 14,
   "metadata": {},
   "outputs": [],
   "source": [
    "# Use geopandas to plot!\n"
   ]
  },
  {
   "cell_type": "markdown",
   "metadata": {},
   "source": [
    "# Literature to do´s"
   ]
  },
  {
   "cell_type": "markdown",
   "metadata": {},
   "source": [
    "* Tracking Underreported Financial Flows \n",
    "(TUFF) methodology developed by Strange et al. (2017a, 2017b),\n",
    "* Interview Prime minister Ethophia (\"main reason for turnaround in fate in africa\") http://et.china-embassy.org/eng/zagx/t899134.htm\n"
   ]
  },
  {
   "cell_type": "code",
   "execution_count": null,
   "metadata": {},
   "outputs": [],
   "source": []
  }
 ],
 "metadata": {
  "kernelspec": {
   "display_name": "Python 3",
   "language": "python",
   "name": "python3"
  },
  "language_info": {
   "codemirror_mode": {
    "name": "ipython",
    "version": 3
   },
   "file_extension": ".py",
   "mimetype": "text/x-python",
   "name": "python",
   "nbconvert_exporter": "python",
   "pygments_lexer": "ipython3",
   "version": "3.9.4"
  }
 },
 "nbformat": 4,
 "nbformat_minor": 4
}
